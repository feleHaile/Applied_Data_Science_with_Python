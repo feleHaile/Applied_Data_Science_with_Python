{
 "cells": [
  {
   "cell_type": "markdown",
   "metadata": {},
   "source": [
    "---\n",
    "\n",
    "_You are currently looking at **version 1.1** of this notebook. To download notebooks and datafiles, as well as get help on Jupyter notebooks in the Coursera platform, visit the [Jupyter Notebook FAQ](https://www.coursera.org/learn/python-data-analysis/resources/0dhYG) course resource._\n",
    "\n",
    "---"
   ]
  },
  {
   "cell_type": "code",
   "execution_count": 418,
   "metadata": {},
   "outputs": [],
   "source": [
    "import pandas as pd\n",
    "import numpy as np\n",
    "from scipy.stats import ttest_ind"
   ]
  },
  {
   "cell_type": "markdown",
   "metadata": {},
   "source": [
    "# Assignment 4 - Hypothesis Testing\n",
    "This assignment requires more individual learning than previous assignments - you are encouraged to check out the [pandas documentation](http://pandas.pydata.org/pandas-docs/stable/) to find functions or methods you might not have used yet, or ask questions on [Stack Overflow](http://stackoverflow.com/) and tag them as pandas and python related. And of course, the discussion forums are open for interaction with your peers and the course staff.\n",
    "\n",
    "Definitions:\n",
    "* A _quarter_ is a specific three month period, Q1 is January through March, Q2 is April through June, Q3 is July through September, Q4 is October through December.\n",
    "* A _recession_ is defined as starting with two consecutive quarters of GDP decline, and ending with two consecutive quarters of GDP growth.\n",
    "* A _recession bottom_ is the quarter within a recession which had the lowest GDP.\n",
    "* A _university town_ is a city which has a high percentage of university students compared to the total population of the city.\n",
    "\n",
    "**Hypothesis**: University towns have their mean housing prices less effected by recessions. Run a t-test to compare the ratio of the mean price of houses in university towns the quarter before the recession starts compared to the recession bottom. (`price_ratio=quarter_before_recession/recession_bottom`)\n",
    "\n",
    "The following data files are available for this assignment:\n",
    "* From the [Zillow research data site](http://www.zillow.com/research/data/) there is housing data for the United States. In particular the datafile for [all homes at a city level](http://files.zillowstatic.com/research/public/City/City_Zhvi_AllHomes.csv), ```City_Zhvi_AllHomes.csv```, has median home sale prices at a fine grained level.\n",
    "* From the Wikipedia page on college towns is a list of [university towns in the United States](https://en.wikipedia.org/wiki/List_of_college_towns#College_towns_in_the_United_States) which has been copy and pasted into the file ```university_towns.txt```.\n",
    "* From Bureau of Economic Analysis, US Department of Commerce, the [GDP over time](http://www.bea.gov/national/index.htm#gdp) of the United States in current dollars (use the chained value in 2009 dollars), in quarterly intervals, in the file ```gdplev.xls```. For this assignment, only look at GDP data from the first quarter of 2000 onward.\n",
    "\n",
    "Each function in this assignment below is worth 10%, with the exception of ```run_ttest()```, which is worth 50%."
   ]
  },
  {
   "cell_type": "code",
   "execution_count": 419,
   "metadata": {},
   "outputs": [],
   "source": [
    "# Use this dictionary to map state names to two letter acronyms\n",
    "states = {'OH': 'Ohio', 'KY': 'Kentucky', 'AS': 'American Samoa', 'NV': 'Nevada', 'WY': 'Wyoming', 'NA': 'National', 'AL': 'Alabama', 'MD': 'Maryland', 'AK': 'Alaska', 'UT': 'Utah', 'OR': 'Oregon', 'MT': 'Montana', 'IL': 'Illinois', 'TN': 'Tennessee', 'DC': 'District of Columbia', 'VT': 'Vermont', 'ID': 'Idaho', 'AR': 'Arkansas', 'ME': 'Maine', 'WA': 'Washington', 'HI': 'Hawaii', 'WI': 'Wisconsin', 'MI': 'Michigan', 'IN': 'Indiana', 'NJ': 'New Jersey', 'AZ': 'Arizona', 'GU': 'Guam', 'MS': 'Mississippi', 'PR': 'Puerto Rico', 'NC': 'North Carolina', 'TX': 'Texas', 'SD': 'South Dakota', 'MP': 'Northern Mariana Islands', 'IA': 'Iowa', 'MO': 'Missouri', 'CT': 'Connecticut', 'WV': 'West Virginia', 'SC': 'South Carolina', 'LA': 'Louisiana', 'KS': 'Kansas', 'NY': 'New York', 'NE': 'Nebraska', 'OK': 'Oklahoma', 'FL': 'Florida', 'CA': 'California', 'CO': 'Colorado', 'PA': 'Pennsylvania', 'DE': 'Delaware', 'NM': 'New Mexico', 'RI': 'Rhode Island', 'MN': 'Minnesota', 'VI': 'Virgin Islands', 'NH': 'New Hampshire', 'MA': 'Massachusetts', 'GA': 'Georgia', 'ND': 'North Dakota', 'VA': 'Virginia'}"
   ]
  },
  {
   "cell_type": "code",
   "execution_count": 420,
   "metadata": {},
   "outputs": [],
   "source": [
    "GDP_COL = 'GDP in billions of chained 2009 dollars.1'"
   ]
  },
  {
   "cell_type": "code",
   "execution_count": 421,
   "metadata": {},
   "outputs": [],
   "source": [
    "def get_list_of_university_towns():\n",
    "    '''Returns a DataFrame of towns and the states they are in from the \n",
    "    university_towns.txt list. The format of the DataFrame should be:\n",
    "    DataFrame( [ [\"Michigan\", \"Ann Arbor\"], [\"Michigan\", \"Yipsilanti\"] ], \n",
    "    columns=[\"State\", \"RegionName\"]  )\n",
    "    \n",
    "    The following cleaning needs to be done:\n",
    "\n",
    "    1. For \"State\", removing characters from \"[\" to the end.\n",
    "    2. For \"RegionName\", when applicable, removing every character from \" (\" to the end.\n",
    "    3. Depending on how you read the data, you may need to remove newline character '\\n'. '''\n",
    "    city_data = pd.read_csv('university_towns.txt', sep=\"\\n\", header=None)\n",
    "    city_data['State'] = city_data[0].where(city_data[0].str[-6:]=='[edit]').str[:-6].fillna(method='ffill')\n",
    "    city_data = city_data[city_data[0].str[-6:]!='[edit]'].rename(columns={0:'RegionName'}).iloc[:,[-1,0]]\n",
    "    city_data['RegionName'] = city_data['RegionName'].str.split('(').str[0]\n",
    "    city_data['RegionName'] = city_data['RegionName'].str.strip()\n",
    "    #city_data['RegionName'] = city_data['RegionName'].str.replace('\\s+$','')\n",
    "    return city_data.sort_values('State').reset_index(drop=True)\n",
    "#get_list_of_university_towns()"
   ]
  },
  {
   "cell_type": "code",
   "execution_count": 422,
   "metadata": {},
   "outputs": [],
   "source": [
    "def get_GDP_year_quarter():\n",
    "    GDP = pd.DataFrame(pd.read_excel('gdplev.xls',header=0,usecols = list(range(0,7)),skiprows=list(range(5)))).iloc[2:].reset_index(drop=True)\n",
    "    GDP.rename(columns={'Unnamed: 0':'Year','Unnamed: 4':'Quarter'},inplace=True)\n",
    "    #GDP_y = GDP.iloc[:,:3].set_index('Year').dropna().loc[2000.0:].reset_index(drop=False)\n",
    "    #GDP_y['Year'] = GDP_y['Year'].astype(int)\n",
    "    GDP_q = GDP.iloc[:,4:].set_index('Quarter').loc['2000q1':].reset_index(drop=False)\n",
    "    \n",
    "    return GDP_q\n",
    "#get_GDP_year_quarter()"
   ]
  },
  {
   "cell_type": "code",
   "execution_count": 430,
   "metadata": {},
   "outputs": [
    {
     "data": {
      "text/plain": [
       "'2008q2'"
      ]
     },
     "execution_count": 430,
     "metadata": {},
     "output_type": "execute_result"
    }
   ],
   "source": [
    "def get_recession_start(GDP_read=None):\n",
    "    '''Returns the year and quarter of the recession start time as a \n",
    "    string value in a format such as 2005q3'''\n",
    "    if GDP_read is None:\n",
    "        GDP_q = get_GDP_year_quarter()\n",
    "    else:\n",
    "        GDP_q = GDP_read\n",
    "    \n",
    "    for i in range(0, len(GDP_q[GDP_COL])-2):\n",
    "        init_quarter = GDP_q[GDP_COL][i]\n",
    "        next_quarter = GDP_q[GDP_COL][i+1]\n",
    "        last_quarter = GDP_q[GDP_COL][i+2]\n",
    "        if (init_quarter>next_quarter) & (next_quarter>last_quarter):\n",
    "            rsq = GDP_q['Quarter'][i+1]\n",
    "            break\n",
    "    return rsq\n",
    "get_recession_start()"
   ]
  },
  {
   "cell_type": "code",
   "execution_count": 431,
   "metadata": {},
   "outputs": [
    {
     "data": {
      "text/plain": [
       "'2009q4'"
      ]
     },
     "execution_count": 431,
     "metadata": {},
     "output_type": "execute_result"
    }
   ],
   "source": [
    "def get_recession_end(GDP_read=None):\n",
    "    '''Returns the year and quarter of the recession end time as a \n",
    "    string value in a format such as 2005q3'''\n",
    "    if GDP_read is None:\n",
    "        GDP_q = get_GDP_year_quarter()\n",
    "    else:\n",
    "        GDP_q = GDP_read\n",
    "    rsq = get_recession_start(GDP_q)\n",
    "    for i in range(GDP_q[GDP_q['Quarter']==rsq].index[0]+2, len(GDP_q[GDP_COL])-2):\n",
    "        init_quarter = GDP_q[GDP_COL][i]\n",
    "        next_quarter = GDP_q[GDP_COL][i+1]\n",
    "        last_quarter = GDP_q[GDP_COL][i+2]\n",
    "        if (init_quarter<next_quarter) & (next_quarter<last_quarter):\n",
    "            req = GDP_q['Quarter'][i+2]\n",
    "            break\n",
    "    return req\n",
    "#get_recession_end()"
   ]
  },
  {
   "cell_type": "code",
   "execution_count": 432,
   "metadata": {},
   "outputs": [
    {
     "data": {
      "text/plain": [
       "'2009q2'"
      ]
     },
     "execution_count": 432,
     "metadata": {},
     "output_type": "execute_result"
    }
   ],
   "source": [
    "def get_recession_bottom(GDP_read=None,rsq_read=None,req_read=None):\n",
    "    '''Returns the year and quarter of the recession bottom time as a \n",
    "    string value in a format such as 2005q3'''\n",
    "    if GDP_read is None:\n",
    "        GDP_q = get_GDP_year_quarter()\n",
    "    else:\n",
    "        GDP_q = GDP_read\n",
    "    if rsq_read is None:\n",
    "        rsq = get_recession_start(GDP_q)\n",
    "    else:\n",
    "        rsq = rsq_read\n",
    "    if req_read is None:\n",
    "        req = get_recession_end(GDP_q)\n",
    "    else:\n",
    "        req = req_read\n",
    "    idx_rsq=GDP_q[GDP_q['Quarter']==rsq].index[0]\n",
    "    idx_req=GDP_q[GDP_q['Quarter']==req].index[0]\n",
    "    return GDP_q['Quarter'][GDP_q[GDP_COL][idx_rsq:idx_req].idxmin()]\n",
    "#get_recession_bottom()"
   ]
  },
  {
   "cell_type": "code",
   "execution_count": 426,
   "metadata": {},
   "outputs": [],
   "source": [
    "def convert_housing_data_to_quarters():\n",
    "    '''Converts the housing data to quarters and returns it as mean \n",
    "    values in a dataframe. This dataframe should be a dataframe with\n",
    "    columns for 2000q1 through 2016q3, and should have a multi-index\n",
    "    in the shape of [\"State\",\"RegionName\"].\n",
    "    \n",
    "    Note: Quarters are defined in the assignment description, they are\n",
    "    not arbitrary three month periods.\n",
    "    \n",
    "    The resulting dataframe should have 67 columns, and 10,730 rows.\n",
    "    '''\n",
    "    housing_data = pd.read_csv('City_Zhvi_AllHomes.csv').set_index(['State','RegionName'])\n",
    "    housing_data = housing_data.drop(list(housing_data.loc[:,'1996-04':'1999-12'].columns),axis=1).iloc[:,4:]\n",
    "    housing_data.columns = pd.to_datetime(housing_data.columns)\n",
    "    housing_data = housing_data.groupby(housing_data.columns.to_period('Q'),axis=1).mean()\n",
    "    housing_data.columns = housing_data.columns.to_series().astype(str).str.lower()\n",
    "    \n",
    "    return housing_data.rename(index=states).sort_index(level=0)\n",
    "#convert_housing_data_to_quarters()"
   ]
  },
  {
   "cell_type": "code",
   "execution_count": 434,
   "metadata": {},
   "outputs": [
    {
     "name": "stderr",
     "output_type": "stream",
     "text": [
      "/usr/local/lib/python3.5/dist-packages/ipykernel_launcher.py:30: SettingWithCopyWarning: \n",
      "A value is trying to be set on a copy of a slice from a DataFrame.\n",
      "Try using .loc[row_indexer,col_indexer] = value instead\n",
      "\n",
      "See the caveats in the documentation: http://pandas.pydata.org/pandas-docs/stable/indexing.html#indexing-view-versus-copy\n"
     ]
    },
    {
     "data": {
      "text/plain": [
       "(True, 0.0040414787138756698, 'university town')"
      ]
     },
     "execution_count": 434,
     "metadata": {},
     "output_type": "execute_result"
    }
   ],
   "source": [
    "def run_ttest():\n",
    "    '''First creates new data showing the decline or growth of housing prices\n",
    "    between the recession start and the recession bottom. Then runs a ttest\n",
    "    comparing the university town values to the non-university towns values, \n",
    "    return whether the alternative hypothesis (that the two groups are the same)\n",
    "    is true or not as well as the p-value of the confidence. \n",
    "    \n",
    "    Return the tuple (different, p, better) where different=True if the t-test is\n",
    "    True at a p<0.01 (we reject the null hypothesis), or different=False if \n",
    "    otherwise (we cannot reject the null hypothesis). The variable p should\n",
    "    be equal to the exact p value returned from scipy.stats.ttest_ind(). The\n",
    "    value for better should be either \"university town\" or \"non-university town\"\n",
    "    depending on which has a lower mean price ratio (which is equivilent to a\n",
    "    reduced market loss).'''\n",
    "    # Get data from files\n",
    "    GDP_q = get_GDP_year_quarter()\n",
    "    rsq = get_recession_start(GDP_q)\n",
    "    rsq_idx = GDP_q[GDP_q['Quarter']==rsq].index[0]\n",
    "    rbq = get_recession_bottom(GDP_q,rsq)\n",
    "    rbq_idx = GDP_q[GDP_q['Quarter']==rbq].index[0]\n",
    "    \n",
    "    # Filter data during recession\n",
    "    reces_data = convert_housing_data_to_quarters().iloc[:,rsq_idx-1:rbq_idx+1]\n",
    "    \n",
    "    # Get university town infos\n",
    "    ut_infos = get_list_of_university_towns().copy()\n",
    "    reces_data_ut = pd.merge(reces_data,ut_infos, how='inner',left_index=True,right_on=('State','RegionName')).set_index(['State','RegionName'])\n",
    "    reces_data_nut = reces_data[~reces_data.index.isin(reces_data_ut.index)]\n",
    "    reces_data_ut['Ratio'] = reces_data_ut.iloc[:,0]/reces_data_ut.iloc[:,-1]\n",
    "    reces_data_nut['Ratio'] = reces_data_nut.iloc[:,0]/reces_data_nut.iloc[:,-1]\n",
    "    \n",
    "    #T-test\n",
    "    t,p = ttest_ind(reces_data_ut['Ratio'].dropna(),reces_data_nut['Ratio'].dropna())\n",
    "    ut_mean = np.mean(reces_data_ut['Ratio'].dropna())\n",
    "    nut_mean = np.mean(reces_data_nut['Ratio'].dropna())\n",
    "    if p < 0.01:\n",
    "        diff = True\n",
    "    if ut_mean<=nut_mean:\n",
    "        better = 'university town'\n",
    "    else:\n",
    "        better = 'non-university town'\n",
    "    return diff,p,better\n",
    "#run_ttest()"
   ]
  },
  {
   "cell_type": "code",
   "execution_count": null,
   "metadata": {},
   "outputs": [],
   "source": []
  }
 ],
 "metadata": {
  "coursera": {
   "course_slug": "python-data-analysis",
   "graded_item_id": "Il9Fx",
   "launcher_item_id": "TeDW0",
   "part_id": "WGlun"
  },
  "kernelspec": {
   "display_name": "Python 3",
   "language": "python",
   "name": "python3"
  },
  "language_info": {
   "codemirror_mode": {
    "name": "ipython",
    "version": 3
   },
   "file_extension": ".py",
   "mimetype": "text/x-python",
   "name": "python",
   "nbconvert_exporter": "python",
   "pygments_lexer": "ipython3",
   "version": "3.5.3"
  }
 },
 "nbformat": 4,
 "nbformat_minor": 1
}
