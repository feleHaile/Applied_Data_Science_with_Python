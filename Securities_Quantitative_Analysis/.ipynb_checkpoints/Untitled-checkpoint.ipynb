{
 "cells": [
  {
   "cell_type": "markdown",
   "metadata": {},
   "source": [
    "# Python网络爬虫获取股票信息"
   ]
  },
  {
   "cell_type": "code",
   "execution_count": 1,
   "metadata": {},
   "outputs": [
    {
     "ename": "ImportError",
     "evalue": "No module named 'bs4'",
     "output_type": "error",
     "traceback": [
      "\u001b[0;31m---------------------------------------------------------------------------\u001b[0m",
      "\u001b[0;31mImportError\u001b[0m                               Traceback (most recent call last)",
      "\u001b[0;32m<ipython-input-1-4e6fea1c7bde>\u001b[0m in \u001b[0;36m<module>\u001b[0;34m()\u001b[0m\n\u001b[1;32m      5\u001b[0m '''\n\u001b[1;32m      6\u001b[0m \u001b[0;32mimport\u001b[0m \u001b[0mrequests\u001b[0m\u001b[0;34m\u001b[0m\u001b[0m\n\u001b[0;32m----> 7\u001b[0;31m \u001b[0;32mfrom\u001b[0m \u001b[0mbs4\u001b[0m \u001b[0;32mimport\u001b[0m \u001b[0mBeautifulSoup\u001b[0m\u001b[0;34m\u001b[0m\u001b[0m\n\u001b[0m\u001b[1;32m      8\u001b[0m \u001b[0;32mimport\u001b[0m \u001b[0mbs4\u001b[0m\u001b[0;34m\u001b[0m\u001b[0m\n\u001b[1;32m      9\u001b[0m \u001b[0;32mimport\u001b[0m \u001b[0mre\u001b[0m\u001b[0;34m\u001b[0m\u001b[0m\n",
      "\u001b[0;31mImportError\u001b[0m: No module named 'bs4'"
     ]
    }
   ],
   "source": [
    "#-*-coding:utf-8-*-\n",
    "'''\n",
    "Created on 2017年3月17日\n",
    "@author: lavi\n",
    "'''\n",
    "import requests\n",
    "from bs4 import BeautifulSoup\n",
    "import bs4\n",
    "import re\n",
    "import traceback\n",
    "from setuptools.package_index import HREF\n",
    "def getHTMLText(url,code=\"utf-8\"):\n",
    "    try:\n",
    "        r = requests.get(url,timeout=30)\n",
    "        r.raise_for_status\n",
    "        #r.encoding = r.apparent_encoding\n",
    "        r.encoding = code #编码识别优化\n",
    "        return r.text\n",
    "    except:\n",
    "        return \"\"\n",
    "'''\n",
    "从东方财富网获取股票代码列表\n",
    "'''\n",
    "def getStockList(stock_list,stock_list_url):\n",
    "    html= getHTMLText(stock_list_url,\"GB2312\")\n",
    "    soup = BeautifulSoup(html,\"html.parser\")\n",
    "    a = soup.find_all(\"a\")\n",
    "    for i in a:\n",
    "        try:\n",
    "            href = i.attrs[\"href\"] #相当于i.get(\"href\") \n",
    "            stock_list.append(re.findall(r's[zh]\\d{6}',href)[0])\n",
    "        except:\n",
    "            continue\n",
    "'''\n",
    "根据东方财富网获取的股票代码，从百度股票获取个股的信息\n",
    "百度股票上显示个股信息的url的前缀是相同的，后缀是股票代码\n",
    "'''\n",
    "def getStockinfo(stock_list,stock_info_url,output_file):\n",
    "    count = 0\n",
    "    for stockCode in stock_list:\n",
    "        html = getHTMLText(stock_info_url+stockCode+\".html\")\n",
    "        try:\n",
    "            if html == \"\":\n",
    "                continue\n",
    "            infoDict={}\n",
    "            soup = BeautifulSoup(html,\"html.parser\")\n",
    "            stockInfo = soup.find(\"div\",attrs={'class':'stock-bets'})\n",
    "            name = stockInfo.find_all(attrs={'class':'bets-name'})[0]\n",
    "            infoDict.update({\"股票名称\":name.text.split()[0]})  #Python 字典(Dictionary) update() 函数把一个字典dict2的键/值对更新到一个新的字典dict里。\n",
    "            \n",
    "            key_list = stockInfo.find_all(\"dt\")\n",
    "            value_list = stockInfo.find_all(\"dd\")\n",
    "            for i in range(len(key_list)):\n",
    "                key = key_list[i].text #也可以使用.string？\n",
    "                value = value_list[i].string\n",
    "                infoDict[key]=value\n",
    "            with open(output_file, \"a\", encoding=\"utf-8\") as f:\n",
    "                f.write(str(infoDict)+\"\\n\")\n",
    "                count = count+1\n",
    "                print(\"\\r当前进度：{:.2f}%\".format(count*100/len(stock_list)),end=\"\")\n",
    "                #转义符\\r,一行打印结束后将光标提到该行的头部，在这一行重新输出内容，覆盖原来的内容，实现不换行的进度条显示\n",
    "        except:\n",
    "            traceback.print_exc()\n",
    "            count = count+1\n",
    "            print(\"\\r当前进度：{:.2f}%\".format(count*100/len(stock_list)),end=\"\")\n",
    "            continue        \n",
    "def main():\n",
    "    stock_list_url = \"http://quote.eastmoney.com/stocklist.html\"\n",
    "    stock_info_url = \"https://gupiao.baidu.com/stock/\"\n",
    "    output_file = \"e://BaiduStock1.txt\"\n",
    "    stock_list=[]\n",
    "    getStockList(stock_list,stock_list_url)\n",
    "    getStockinfo(stock_list,stock_info_url,output_file)\n",
    "    \n",
    "main()"
   ]
  },
  {
   "cell_type": "code",
   "execution_count": null,
   "metadata": {},
   "outputs": [],
   "source": []
  }
 ],
 "metadata": {
  "kernelspec": {
   "display_name": "Python 3",
   "language": "python",
   "name": "python3"
  },
  "language_info": {
   "codemirror_mode": {
    "name": "ipython",
    "version": 3
   },
   "file_extension": ".py",
   "mimetype": "text/x-python",
   "name": "python",
   "nbconvert_exporter": "python",
   "pygments_lexer": "ipython3",
   "version": "3.5.3"
  }
 },
 "nbformat": 4,
 "nbformat_minor": 2
}
